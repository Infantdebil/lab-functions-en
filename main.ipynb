{
 "cells": [
  {
   "cell_type": "markdown",
   "metadata": {},
   "source": [
    "# Functions"
   ]
  },
  {
   "cell_type": "markdown",
   "metadata": {},
   "source": [
    "On this lab we will put to practice some of the concepts we have learned on this past few days.\n",
    "\n",
    "`NOTE: On this lab you should try to write all the functions yourself using only the most basic of python syntax and without functions such as len, count, sum, max, min, in, etc. Give it a try. 🧑🏻‍💻👩🏻‍💻`\n",
    "\n",
    "The cell after each exercise contains a few tests to check if your function works as expected."
   ]
  },
  {
   "cell_type": "code",
   "execution_count": 116,
   "metadata": {},
   "outputs": [],
   "source": [
    "from mod.testing import *\n",
    "import unittest\n",
    "import statistics"
   ]
  },
  {
   "cell_type": "markdown",
   "metadata": {},
   "source": [
    "## 1. Write a function that returns the greater of two numbers"
   ]
  },
  {
   "cell_type": "code",
   "execution_count": 117,
   "metadata": {},
   "outputs": [],
   "source": [
    "def greater(a,b):\n",
    "    if a > b:\n",
    "        return a\n",
    "    else:\n",
    "        return b\n"
   ]
  },
  {
   "cell_type": "code",
   "execution_count": 118,
   "metadata": {},
   "outputs": [
    {
     "name": "stderr",
     "output_type": "stream",
     "text": [
      "....................................................................................................\n",
      "----------------------------------------------------------------------\n",
      "Ran 100 tests in 0.066s\n",
      "\n",
      "OK\n"
     ]
    }
   ],
   "source": [
    "# This will test your function \n",
    "test_greater(greater)"
   ]
  },
  {
   "cell_type": "code",
   "execution_count": 119,
   "metadata": {},
   "outputs": [],
   "source": [
    "#your code here"
   ]
  },
  {
   "cell_type": "markdown",
   "metadata": {},
   "source": [
    "## 2. Now write a function that returns the largest element on a list"
   ]
  },
  {
   "cell_type": "code",
   "execution_count": 120,
   "metadata": {},
   "outputs": [],
   "source": [
    "def greatest(list):\n",
    "    large_element = 0\n",
    "    for element in list:    \n",
    "        if element > large_element:\n",
    "            large_element = element\n",
    "    return large_element    "
   ]
  },
  {
   "cell_type": "code",
   "execution_count": 121,
   "metadata": {},
   "outputs": [
    {
     "name": "stderr",
     "output_type": "stream",
     "text": [
      "....................................................................................................\n",
      "----------------------------------------------------------------------\n",
      "Ran 100 tests in 0.050s\n",
      "\n",
      "OK\n"
     ]
    }
   ],
   "source": [
    "# This will test your function \n",
    "test_greatest(greatest)"
   ]
  },
  {
   "cell_type": "markdown",
   "metadata": {},
   "source": [
    "## 3. Write a function that sums all the elements on a list"
   ]
  },
  {
   "cell_type": "code",
   "execution_count": 122,
   "metadata": {},
   "outputs": [],
   "source": [
    "def sum_all(lst):\n",
    "    sum = 0\n",
    "    for element in lst:\n",
    "        sum = element + sum\n",
    "    return sum"
   ]
  },
  {
   "cell_type": "code",
   "execution_count": 123,
   "metadata": {
    "scrolled": true
   },
   "outputs": [
    {
     "name": "stderr",
     "output_type": "stream",
     "text": [
      "....................................................................................................\n",
      "----------------------------------------------------------------------\n",
      "Ran 100 tests in 0.024s\n",
      "\n",
      "OK\n"
     ]
    }
   ],
   "source": [
    "# This will test your function \n",
    "test_sum(sum_all)"
   ]
  },
  {
   "cell_type": "markdown",
   "metadata": {},
   "source": [
    "## 4. Write another function that multiplies all the elements on a list"
   ]
  },
  {
   "cell_type": "code",
   "execution_count": 124,
   "metadata": {},
   "outputs": [],
   "source": [
    "def mult_all(lst):\n",
    "    multiply = 1\n",
    "    for element in lst:\n",
    "        multiply = element * multiply\n",
    "    return multiply"
   ]
  },
  {
   "cell_type": "code",
   "execution_count": 125,
   "metadata": {
    "scrolled": true
   },
   "outputs": [
    {
     "name": "stderr",
     "output_type": "stream",
     "text": [
      "....................................................................................................\n",
      "----------------------------------------------------------------------\n",
      "Ran 100 tests in 0.051s\n",
      "\n",
      "OK\n"
     ]
    }
   ],
   "source": [
    "# This will test your function \n",
    "test_mult(mult_all)"
   ]
  },
  {
   "cell_type": "markdown",
   "metadata": {},
   "source": [
    "## 5. Now combine those two ideas and write a function that receives a list and either \"+\" or \"*\" and outputs acordingly"
   ]
  },
  {
   "cell_type": "code",
   "execution_count": 126,
   "metadata": {},
   "outputs": [],
   "source": [
    "def oper_all(arr, oper = \"*\"):\n",
    "    calc = 0\n",
    "    if oper == \"+\":\n",
    "        for element in arr:\n",
    "            calc = element + calc\n",
    "        return calc \n",
    "    elif oper == \"*\":\n",
    "        calc = 1\n",
    "        for element in arr:\n",
    "            calc = element * calc\n",
    "        return calc    \n",
    "\n"
   ]
  },
  {
   "cell_type": "code",
   "execution_count": 127,
   "metadata": {},
   "outputs": [
    {
     "name": "stderr",
     "output_type": "stream",
     "text": [
      "....................................................................................................\n",
      "----------------------------------------------------------------------\n",
      "Ran 100 tests in 0.039s\n",
      "\n",
      "OK\n"
     ]
    }
   ],
   "source": [
    "# This will test your function \n",
    "test_operations(oper_all)"
   ]
  },
  {
   "cell_type": "markdown",
   "metadata": {},
   "source": [
    "## 6. Write a function that returns the factorial of a number."
   ]
  },
  {
   "cell_type": "code",
   "execution_count": 128,
   "metadata": {},
   "outputs": [],
   "source": [
    "def factorial(n):\n",
    "    result = 1\n",
    "    for i in range(1, n +1):\n",
    "        result *= i\n",
    "    return result"
   ]
  },
  {
   "cell_type": "code",
   "execution_count": 129,
   "metadata": {},
   "outputs": [],
   "source": [
    "#factorial formula\n",
    "#n! = n * ( n - 1 ) *...*1\n",
    "\n",
    "# This code defines a function called \"factorial\" which takes an input \"n\". The function uses a for loop to iterate through the range of numbers \n",
    "# from 1 to n+1. For each number in that range, it multiplies the current value of x by the number in the range. At the end of the loop, \n",
    "# the function returns the final value of x, which will be the factorial of the input number \"n\".\n",
    "\n",
    "# The Factorial of a positive integer n is the product of all positive integers less than or equal to n. \n",
    "# For example, the factorial of 6 (written \"6!\") is 6 * 5 * 4 * 3 * 2 * 1 = 720.\n",
    "\n",
    "# So this function takes an input of any positive integer, and returns the factorial of that number."
   ]
  },
  {
   "cell_type": "code",
   "execution_count": 130,
   "metadata": {},
   "outputs": [
    {
     "name": "stderr",
     "output_type": "stream",
     "text": [
      "....................................................................................................\n",
      "----------------------------------------------------------------------\n",
      "Ran 100 tests in 0.062s\n",
      "\n",
      "OK\n"
     ]
    }
   ],
   "source": [
    "# This will test your function \n",
    "test_factorial(factorial)"
   ]
  },
  {
   "cell_type": "markdown",
   "metadata": {},
   "source": [
    "## 7. Write a function that takes a list and returns a list of the unique values.\n",
    "\n",
    "`NOTE: You cannot use set. 🤔`"
   ]
  },
  {
   "cell_type": "code",
   "execution_count": 131,
   "metadata": {},
   "outputs": [],
   "source": [
    "def unique(lst_un):\n",
    "    unique_values = []\n",
    "    for element in lst_un:\n",
    "        if element not in unique_values:\n",
    "            unique_values.append(element)\n",
    "    return unique_values\n"
   ]
  },
  {
   "cell_type": "code",
   "execution_count": 132,
   "metadata": {},
   "outputs": [
    {
     "name": "stderr",
     "output_type": "stream",
     "text": [
      "....................................................................................................\n",
      "----------------------------------------------------------------------\n",
      "Ran 100 tests in 0.056s\n",
      "\n",
      "OK\n"
     ]
    }
   ],
   "source": [
    "# This will test your function \n",
    "test_unique(unique)"
   ]
  },
  {
   "cell_type": "markdown",
   "metadata": {},
   "source": [
    "## 8. Write a function that returns the mode of a list, i.e.: the element that appears the most times.\n",
    "`NOTE: You should not use count... 🧐`"
   ]
  },
  {
   "cell_type": "code",
   "execution_count": 133,
   "metadata": {},
   "outputs": [],
   "source": [
    "def mode_counter(arr):\n",
    "    mode_values = []\n",
    "    mode_values = statistics.mode(arr)\n",
    "    return mode_values"
   ]
  },
  {
   "cell_type": "code",
   "execution_count": 134,
   "metadata": {},
   "outputs": [
    {
     "name": "stderr",
     "output_type": "stream",
     "text": [
      "....................................................................................................\n",
      "----------------------------------------------------------------------\n",
      "Ran 100 tests in 0.061s\n",
      "\n",
      "OK\n"
     ]
    }
   ],
   "source": [
    "# This will test your function \n",
    "test_mode(mode_counter)"
   ]
  },
  {
   "cell_type": "markdown",
   "metadata": {},
   "source": [
    "## 9. Write a function that calculates the standard deviation of a list.\n",
    "`NOTE: Do not use any libraries or already built functions. 😉`"
   ]
  },
  {
   "cell_type": "code",
   "execution_count": 135,
   "metadata": {},
   "outputs": [],
   "source": [
    "def st_dev(list_sd):\n",
    "    sd = 0.0\n",
    "    mean = statistics.mean(list_sd)\n",
    "    for elements in list_sd:\n",
    "        sd += (elements - mean) **2\n",
    "    sd = (sd / (len(list_sd)-1)) ** 0.5\n",
    "    return sd"
   ]
  },
  {
   "cell_type": "code",
   "execution_count": 136,
   "metadata": {},
   "outputs": [
    {
     "name": "stderr",
     "output_type": "stream",
     "text": [
      "....................................................................................................\n",
      "----------------------------------------------------------------------\n",
      "Ran 100 tests in 0.077s\n",
      "\n",
      "OK\n"
     ]
    }
   ],
   "source": [
    "# This will test your function \n",
    "test_stdev(st_dev)"
   ]
  },
  {
   "cell_type": "markdown",
   "metadata": {},
   "source": [
    "## 10. Write a function to check if a string is a pangram, i.e.: if it contains all the letters of the alphabet at least once. Mind that the strings may contain characters that are not letters."
   ]
  },
  {
   "cell_type": "code",
   "execution_count": 137,
   "metadata": {},
   "outputs": [],
   "source": [
    "def pangram(string):\n",
    "    check_list = []\n",
    "    for element in string:\n",
    "        if element.isalpha() and element.lower() not in check_list:\n",
    "            check_list.append(element.lower())\n",
    "      \n",
    "    if len(check_list) == 26:\n",
    "        return True\n",
    "    else:\n",
    "        return False         "
   ]
  },
  {
   "cell_type": "code",
   "execution_count": 138,
   "metadata": {},
   "outputs": [
    {
     "name": "stderr",
     "output_type": "stream",
     "text": [
      "..............................\n",
      "----------------------------------------------------------------------\n",
      "Ran 30 tests in 0.037s\n",
      "\n",
      "OK\n"
     ]
    }
   ],
   "source": [
    "# This will test your function \n",
    "test_pangram(pangram)"
   ]
  },
  {
   "cell_type": "markdown",
   "metadata": {},
   "source": [
    "## 11. Write a function that receives a string of comma separated words and returns a string of comma separated words sorted alphabetically.\n",
    "\n",
    "`NOTE: You may use sorted but not split and definitely no join! 🤪`"
   ]
  },
  {
   "cell_type": "code",
   "execution_count": 139,
   "metadata": {},
   "outputs": [],
   "source": [
    "def sort_alpha(string):\n",
    "    sort = []\n",
    "    temp_str = \"\"\n",
    "    for element in string:\n",
    "        if element.isalpha():\n",
    "            temp_str += element\n",
    "        elif element == \",\":\n",
    "            sort.append(temp_str)\n",
    "            temp_str = \"\"\n",
    "    sort.append(temp_str)\n",
    "    temp_str = \"\"\n",
    "    for element in sorted(sort):\n",
    "        temp_str = temp_str + element + \",\"\n",
    "    temp_str = temp_str[:-1]\n",
    "    print(temp_str)    \n",
    "    return temp_str"
   ]
  },
  {
   "cell_type": "code",
   "execution_count": 140,
   "metadata": {},
   "outputs": [
    {
     "name": "stderr",
     "output_type": "stream",
     "text": [
      "....................................................................................................\n",
      "----------------------------------------------------------------------\n",
      "Ran 100 tests in 0.060s\n",
      "\n",
      "OK\n"
     ]
    },
    {
     "name": "stdout",
     "output_type": "stream",
     "text": [
      "bjth,ccqiip,codfc,kvitvyba,tiyned,uumq,vxekbm\n",
      "awkvqsxl,ckvgjbm,efvcrjeob,fnpixxswzc,fqtnlak,gjnzgrjzmq,hzyvaob,idmatw,jmby,jnfkwgymgi,jphtdpoq,knhm,lvhhkxock,oxaekyp,pggvw,udbosta,vanmbqpo,vippnnh,vmldnclrz,wpcnzwjek,xevr,yeqkms,ymdqyzpuow\n",
      "abue,bbknxtdyws,befujbr,bgvqbwvqv,bjpxylnz,eeat,fbyzrdym,futbikscj,gasljlp,gsfoq,ignapzz,lqhfjxiq,oaip,oamin,rmtmc,sydbwvt,twckn,untxwmoi,xaxuzp\n",
      "cbxnsc,chngvp,dvueo,fkqszvpift,heuispxhyi,hnss,hpahd,jqgsyyhd,jrtvfkdsk,mglg,nnrwj,nojud,nrsro,oeldfretky,peduky,qhos,qpqad,qzikp,rlckt,sjhzkin,ssnst,upox,ylskdwl,zchjixw\n",
      "alix,bdzuxgc,caxqphrzl,cwnvymlkg,czfiyja,eosdoagx,itnh,jsttvshrvt,mbtdua,oyimcdpd,pbxlscdwo,pmybtxgxz,pxzbzabgom,qvspd,rpxpxgs,tfyqv,upvbcnpfd,vkfenhxjip,wfsdf,zgrywy\n",
      "becrhywyin,bejdmrnucx,eimovqzxkd,ipdymog,ipkoqranbo,kiromov,nzoprzri,operkit,sfgwqq,vdjlxghr,xncpznec\n",
      "akgq,bsvd,chvltfa,cmsl,dakfum,desikwt,ecrhqazd,eqrvz,gfcnv,hdrxbnln,jbizk,jhjdxjv,jkfxcdwfa,lkilsivj,ntuimwdzrt,oynb,qfjd,qqlond,tmcf,vplzbnt,wdesvu,xiov,xlansmgiec,zpjsth,zsdidaz\n",
      "aqukgx,blrewjf,bmkemwpch,ckvxzxalk,cunum,dttozsgxb,hiinncjpln,hjges,ilvj,jusvxdnkwu,knwzcwfu,kzvy,oawzx,rxttouvb,sowaxjoudg,sscmgesu,tampt,uhwpb,ynwxka\n",
      "bxalmtiwwd,eiix,eimcy,fxnxrrt,kolqiuyw,loyttqlh,mjnpnf,pcacldga,srlbcq,suoowfwwp,tbbrazzhn,vqugpd,wlpbyaxkv,xdswlr,xeis\n",
      "ccueyjdnl,dpajvfodp,juwkhsosm,nuyrkijask,pqpivnw,qjruljh,rqbtacq,ryaav,sfcgrybvm,vomi,vqqhweosh,vzspy,xklykfgfyc\n",
      "bzvfjgsoc,czespuz,eyvza,fflas,fypvbzxuxs,gbssye,ggmiovsg,glktnn,hrolpvhbf,hvtythu,jlah,jmiaxix,kupvgysm,kvfbhelell,kvpjyykw,nnic,onqb,pbsqbauoj,rkwuksgld,sujdq,toyqyzh,wyzsiafft,xhovlhednn,yehencd,zyboegxf\n",
      "fftjn,fgxnfnbfmq,fhckz,pgiagdlm,rcuvoptf,zmvklyp\n",
      "flcjim,fxwudnv,gdpudacad,gzgqkxjki,jdtqvgd,lpjgx,mzgkpbx,okscb,omeyqjagyl,tzase,vfjxkujbk,zxzef\n",
      "afzjl,cxcvfxkvn,hqhuzlnmf,lcbqgdeoo,lknxs,ltmwfpcxxb,oduusyc,qbksxaqmau,sfvewxb,vcnxqcyim,vdipsxtxh,vnvkq,wwfyqvtd,xaslpdlz,zbzlq,zkfy\n",
      "bbqkgh,dmtrwqh,gswiftxltm,hmjictodp,hodakh,jbxgontp,kftirsop,kqzbrdvua,lyhmx,mrrra,nphbhlqsh,prvngski,rjbulod,teigqnepc,tjpsspub,utwp,vpsckkcoyd,vutwjaygxo,wjhetutzs,wjojlj,xfdhnboll,xzlsxhsul,yzqnvbajp,zunc\n",
      "atitvlfed,fgehcvbt,ibrn,oahfxe,onhjnrohfv,pbjj,trrmebe,vmdw,xvfaokne\n",
      "cnttncb,crreihxu,crur,gjmuslznir,hhfrco,ifbungz,ispsflpm,jbqsimdq,kafydqkc,lkpxcrtxd,lzxjh,nzaphspqd,owmmdqdc,phkkvd,rkrbvafnr,sgotbx,ujeicpaunu,usohsmafey,vpcx,vrpsbzaw,vwymuwwy,vyiwn,yogbnrbaju,zlwdah\n",
      "abanajjoxq,fcaosndby,hfbokjpxiv,hontjgla,hwyxma,ikpli,itmim,jccqamjize,jhvmx,jnzpabfglm,jrtdi,ksdkuugson,mozsqgaa,mzsncx,phywyeg,qrfhimcdjv,qrrrlygl,slfnipbmx,tyqcoy,wyjsmg,xhbbs,zhmdjimh\n",
      "lvtdukdkc,mzvrc,prcq,prxqjncyb,uqqnqwgiy\n",
      "atmodyylz,dyebw,epefhfvhpb,tlejro,udai,uylfqmk,uzrmtrav,wfnouoxda,wskynvkacb,zlwfkt\n",
      "adjgyhoxes,aklysi,bctkcbn,dlywjwwir,kemxlhtrjs,kkhsn,kqzg,nkbhlg,ntytoagl,pizi,pwoarisns,sbcsot,sbybkwtoyx,sfczwrqott,twlewu,tyevskolyo,uqhfx,wocmnjlac,xeatpsmoba,xkcbmchozh,xndgogims,zpzgtefsbu\n",
      "dhfqxngr,dscqfnbmx,ieqiavrc,kadycnyg,kdcifqmb,lnfochp,nznddieayh,ovkxddkh,pvqgxilkyz,pwrcy,sfbfmrjr,vddnd,vjdcezyhw,wkms\n",
      "cmit,dbtnvpik,ejboxf,etdxfgsfq,hhwjiq,jjyzmlh,lzwjfvx,mentr,modepxh,odorkth,rjcozqv,ssyqlp,xgzpwiugss\n",
      "cnml,glultmalwp,gmuqapey,hnvlcmsqyc,imqg,kcfhnj,mfrhxzb,pxgeg,rnwctbwkq,svyblhsgw,tkahoefyhq,wggbkrig,wvpjqedm\n",
      "fbzdqzvj,gfqinvrx,htvj,irfgffbwif,karn,kgxh,knbfjyv,muugav,mvmloofm,mxasrg,obirkakuuz,pmyikaujfp,rkosob,sooldnaent,twhu,utdirvbrjv,vxpkdexo,wjxh,xeyb,yjclgivq,zrxta\n",
      "agqbft,dddqkt,ddnztudyg,hpnfrn,iasmlbef,ktmeokkzm,miterxpm,oahqmonlq,odcbd,pgnxkpx,pkfgrbuv,shwwtkwyb,skjjqrha,sscy,tfapxzefnd,vbxpd,wueawpuds\n",
      "bedq,bfqqenzbo,exybnfnj,hxowectgd,iqbz,klbktuee,mknu,oeuyxgj,pmgcoegl,ufif,vljqz,vommtw,wuvtt,wyqoyc,yirxzoob\n",
      "fsjdxabyb,gije,inninkl,kvytqete,lhjc,lifdbxzht,lxidtrgugg,muqkpm,nsmmgdan,qhlvtfjxuj,vvhoruomnm,wcfx,wokdjaeyt,yqtaygz,zzgad\n",
      "bgewkbrfy,bhxl,bqwemwwzk,dbnls,doxvluy,dqialwwc,durasj,edrvubz,egasswhblj,euqxn,hcvo,hgmyjmn,iujtrjpvu,jviwmxox,kmlorkb,kzrsmfhd,lmtj,oezijyu,qatgkpetxc,sebcl,vxhyfb,wxqnlgmsse,xkerqmnu,xrwhwzezqq,xztammdd\n",
      "djfrk,dlovngvu,gfyyazbgxv,kkciglthg,nmxgvofen,ntkjjbelan,peorigkzc,sakvemm,sepdcevl,tykbirqd\n",
      "bivhtkij,csozuijmli,ddckma,dqrv,fyhhlsnh,iyiql,jmhrnaqidx,mkvaxvt,phpetzxcpg,qpecn,shmimh,slndmcbd,uekakxs,vybsb\n",
      "awku,brhwncu,douvimx,fpzawsgxmx,gxwgv,hmjqwfjx,iodih,itvra,lzpw,mzhzvsud,noatauemwf,sxyyid,tklbior,uecxsu,ueqad,uurbkn,wdnrmijfcc,yqyxho,zdjmg\n",
      "bsip,dcedyptvc,eeoxmvusas,heuwje,hpee,jeqd,owyj,owznjtr,ozapu,peelvzit,sdblx,sqnmxqlj,szgozyk,szne,uxyndpo,wzfl\n",
      "cqtcpzaprp,cwnttsz,gmjlnllz,hcnxz,ifext,iouauh,kesa,opjpntrmjb,sdtqgtlrh,unpbofxtz,uvvkjfv,uxsy\n",
      "adkt,dnakxu,drkmlctx,fyjymap,gkjbkkwws,glgkben,hchsmbnvxb,hjwzyfwo,hlxxfepuq,iamtsgpalt,ibrsnbqif,idjsdu,ildswnaluj,ldrmzgqpn,nnhe,ozvphyl,prlc,raxypobqnu,sjjdqbuz,tktb,vgofm,ybdomfnix,yrenx,zhhunzxzwh\n",
      "adynga,auyok,bdtbalt,dolhxvz,ekdegbkwu,hzgefrgdu,ioyiyj,jylqk,jznqyl,knmftvj,kwyvnnzi,lnwom,nsbpbgnwqa,qahp,qidz,qyurl,rgzxwjzutm,vohapr,xjhkzelov,xsilzlsb,yyyifczqn,zmvzesqh\n",
      "attbzbdxh,bztbgcybbs,cbvderpi,dpditqrupb,gayuoze,gjeblf,gvfiozmsn,jadivsd,kiowvkivx,lrbrccgxme,ptxf,raczhhvbut,rrawv,tbifxadr,ticv,uqyf,xzwfdtwg,yandu,yyyqlrzsa,zgjyokkc\n",
      "anmue,apdgy,bshyrcnxhv,dvhb,ksfvo,mohvc,piazbc,qecwqb,rfto,rvoxuty,wgfvggy,xzble,ysnrwqr,yzahjsrr,zjtsp\n",
      "dvebmns,emtlrn,fvckxfugox,gejrdwel,juaksnxwf,kgxge,mqtwunq,nfjwsyps,qbuia,qfdwpvx,rszi,sawjyshid,udmnymuubb,unrnpz,vgxwmba,wkvxcikb,wpcekqvax,wtvqjjdb\n",
      "aarfogtvrf,hegebdwnh,muil,qjwwrthz,qyiosvljam\n",
      "boamqhrs,fbnq,fklolrygl,gtdt,hiuyr,imnr,jfuz,jilaxr,klprrccwyc,lqjl,ltqol,lujwyzzuuz,mqkobubfk,oxllirmm,rjxax,uvrpphgv,xkdrq,ylqsqexrs,zecruez\n",
      "cprigv,eirdkq,fcgsnz,focq,hvtuyp,jxsxyzo,kihtdxkc,kobqkxteob,nkknbkixo,nkqywmsc,onhlmxljx,qlnk,ugnkfekg,uilyoc,vmmlsur,yijhwh,zoqyym\n",
      "fmeqd,gggddbbq,hzca,mebstjyr,mlud,nqjacclrvb,uuwrneot,vtrl,wivaanc,yiecerutc\n",
      "emmo,hcsg,sqkkd,wbpdxnyim,xcevxa,yaqilp\n",
      "crbdobgypv,dcbug,ecfarfu,fruz,gwkzub,kjuydiamdx,ktde,mercmoz,muooakofzi,myxxknpud,pzglqlfhc,qwnmthns,rusaagog,tdlnibkdp,urbvek,uuziv,wqgx,zobxqc\n",
      "ajjgkforh,arbo,fibfl,icvdcl,ilnguida,khqlspiebt,llggiuk,mouk,nxdqaesonf,ofqhb,pcufp,pwxlt,qfmpvkqd,qogscim,qqbg,rqhhdvecja,slqdtr,umqlmzbh,vtqzehwv,vttxl\n",
      "cqac,dxnxwiaug,hihzwedk,hundjkb,ogrw,sodv\n",
      "dmzezw,frqwyqtl,jrpm,jxkxt,lyujbdspyl,sects,sljimb,smbey,vtaxf,weallv,yjgic,ykveyj,zikx\n",
      "cascdfauw,fsyg,gufwuztv,jnvshhla,jttkn,olbi,pksqfktb,wbocsqof,xosgui,xqqpijbil\n",
      "gxxfw,gzhpvgg,halymg,jyfh,ojtrniht,opuxb,xzge,yklzjuld\n",
      "airxepb,bsur,dmhkq,efnmy,epaiptp,gwbubbs,hezwaihiz,iuwcjsdivv,lbogw,mntm,nmmhcxn,odzobkohdr,pkrarqwo,qdpqtl,qgmk,qqbh,qqxarc,sryubasmc,tvzbdvi,vhvqzbtt,vkswbn,vxujymedgi,xaxmuzys,yzcntkndef\n",
      "clisgh,ecdlcf,kgshjtqpm,kvvpya,tpmxcag,yvmnk\n",
      "bxfb,cbbmz,eryvpe,eyicamqsp,gmdgholy,gpqztnrk,gxzwlfn,iawj,ifwd,iyaumszm,kukwu,lhwboykd,liiwcizx,ljxvulcta,sfwydtjjl,sjycyn,thihwlveuw,tnmwou,uobrxnd,wykaqo,wzdqmogz,yudyi,yzovly\n",
      "acgifekgvs,apxts,axmxpjppn,cimmgm,dsfhh,iepkoaqyz,jvcnzijgd,lvbxsw,mjpp,ndtiguafl,qfuhzbnebw,qmojtzcwll,sovxrn,uujvnwe,xpovupxyos\n",
      "asqv,cnolqzbxol,djlgqygvs,dlsn,foimpbdei,govkb,iwbqi,jrkkrbgt,kfpo,knjieqhkrc,laxnz,lucye,mcgutep,qkawchnm,qlkrt,tqaqkdihkr,uhvzb,uptjmsjip,uxjfxojq,vgomnzilvo,vricfvsedo,wcbzhxsxz\n",
      "avahppum,bfkgvcgz,cpxvekgbi,fzhjvfbr,glqcg,gohflf,hkooyouiy,hofbft,icfpppkxq,jgzrm,mcluzelmud,mcufrddl,nomyxq,owxgszkdds,qphbfpvo,rvyye,swvjmzgxl,tgllmtv,vrzoglefv,wkcntmnb,wpxdtg,wsscuz,wtemyutyam,ybepobzcu,zjgxyc\n",
      "csnnrfuvyg,ctck,erhbziejw,glidcqkr,jpdfbgjv,mpskkd,qgvxaopklv,uwkefnyp\n",
      "autzenqt,fcxirvux,fowqkkiuqv,fpjulbpgi,llaqrif,rlkzkrmggx,tifxvug\n",
      "bemlhhtl,hroeli,qrfbzxdi,soyuzdxbt,szhlbxq,tcvz,tfhhz,ukzwea,uokrp,uzehlnces,whrfxw,xharwgef,yewz\n",
      "ayyne,dtxty,hvevomihn,knwz,mdnvnohb,nfxrr,njmofv,patkgdkgej,qsjfddjeox,racwn,rbagigq,sipjm,uncgebif,wxhtjbq,xcotcmomhi,yhmgnreds\n",
      "bbussmxd,bsup,devtylwbh,dfsp,hgjqes,hizxoo,hozokrk,hyoxpxyu,irgkzdiob,jbdm,jinegtdjlg,juwamdz,ketrk,lrbzgizlal,mdqcyabl,ntjmrljout,ocofky,oiaglj,oyaujgo,pqvkbth,qfny,tttx,vqudzugnqm,zornz,zuexftose\n",
      "dsucmwwa,duwkusaez,fgnjgwp,fvdndgg,fzou,gdtmliim,gizk,guxfi,hmjvtb,ilxvch,lmqxiqucwk,mzkfqmmb,oyhslprl,pucre,qrinnuphqj,svfwitfw,swkoxxx,vxwwrguai,wjmo\n",
      "bajbh,dbwvfqjn,dyqdpuwv,fjdn,kaunw,tdyr\n",
      "arpgk,ehlxcfmgpg,evijnmbav,fcghtprvp,fkayl,fluxuv,krmwhwgycv,lwgaaup,ofvin,oomce,opvilsxx,qmaylci,tmce,zxwymdfim\n",
      "awtour,elqi,ffajutujb,kmfd,mmjdaim,nnynwinz,qldary,xbwllisxsm,xpskijgat\n",
      "ldjcdpuk,ltadv,maacrwxtx,qevpirfom,qhcw,sswiai,zmjp,zunlzsfykh\n",
      "feijk,ihkkmvv,oagpefiyed,rrmjnyr,thxme,tomhcrxa,uqtbqs,usftkc\n",
      "ahuuhf,btabfqmuw,bzpl,cqmjfyvul,eoez,gjxvle,hcyh,hyanwl,izzs,kntilkuu,lhkc,nnjtrbesri,oacrejizd,onaxnlkiod,pxxipcwc,pyhlinbzet,sazwz,udyepx,uxbmabdkb,xkugf,xrub,xuic,yarxwihplo,ykzsdketd\n",
      "jjlkmgduka,maxxk,qxconsi,sten,yrsbxr,zevpimnxcl\n",
      "gwxkdgoj,kgiwsno,obpvh,teejdclg\n",
      "bnkxm,boazorhvng,bpxk,bztdup,fhcrjv,fhgd,jwwyxdybvv\n",
      "bbhco,cuwx,elzbaxhx,hgaqgpau,irxvtokjs,jnrinxedpa,mvgaccq,ncqhsjix,nlorzdytpj,oqkqud,qjol,sbxhapwjr,vtdzxbgn,yjujqhyai,ypyvszz,zntmk\n",
      "gkypyh,kdmzcgg,mvczit,nzlrawclud,pgaits,tdldk,tlhzg,ueipgbz,urmmnfwd,zgeen,zrlbo\n",
      "bzjufoehuc,fdeb,hrfhb,kcslfsfg,kcyp,mmbjwwztza,ngxeubp,nvwwvj,qxuao,shxshgxh,trvivk\n",
      "ayvlir,jhwdu,lqvqim,mpcs,qsyitzy\n",
      "amiew,bafccwtlnr,gfwzz,hkuj,hugqjif,jyzoeehv,kabbjomd,knqmavysks,liwjxbbwn,mjvsoctjjf,oijpnvf,qhkzt,qqnneqvm,rrvfk,rrzqyzotm,teoefong,ucad,ujjbsqm,ujlr,vpqsy,wymsxzatqh,ysopv,yvmx,zfqd,zkbvtywk\n",
      "bkhztdit,bxhnylwyy,cuivzjvt,fbxur,geytnfark,homrgd,ikfvumlr,lofno,nrvu,pzccrbf,rucs,rvhxts,ulhaczgtdv,vrvvz,vxnpt,xfgspyxm,zpmaeak\n",
      "ddysvgqmb,edgswfzi,nscl,rnzpdtrq,sarkvjjadn\n",
      "akjmepgxp,cxqkrht,dicjt,hlmywa,iqftg,iqpjrxl,jvjalkagly,ncotw,pignuwrw,qglmytmnf,xwphbrm,yqmkgmbj,zqrmhc,zvlsu,zwmw\n",
      "cagownf,csubyki,dvqfkpik,eeducpg,fqgovt,ftxo,gsvmemlj,hoji,hqixdbqu,lhrzy,mqbg,nlnjrv,nzhm,syubgrbm,thzn,vnjruzum,vnohetfpgv,vzwv,yjzeu\n",
      "chfkmnfvh,dhzz,drfocvfvn,dwzt,eluy,fcex,gyzwtksrhb,hyryfnks,jlee,kckb,klanm,lepk,lgsghct,lhgjvux,lxkbfqjoaj,nnscbz,nrjakhlhph,ohduufuh,ozqvccyd,rdeovre,skcfkrfmz,tbkbczwb,uoudhncvbk,whquoyrs,wxewjm\n",
      "atqater,hntr,thnvmsmd,txjgjmkz,xnvup\n",
      "ajkn,fjaqwkpyfc,hyexlsmsgh,ihnffy,jths,kmbdm,lwfo,vzbcyhwls,xoyqekf\n",
      "btite,cedlpkxqp,fjbryyjiw,hmrkjxjyl,iywotvegg,jyuuetr,lryhm,otbqfln,quqeo,smul,wpggjda,yoeh\n",
      "hlkocvc,tbznkadgvh,upwag,wghy\n",
      "edwqa,gvlhsjgaf,hilmsfdix,iqlrk,ncdvvqwk,njzfo,obvbekk,pdgqjdzna,qkxwqvjs,skqbzotpys,vaaqgj,yqkgx,ytvgx\n",
      "ahbk,amiaiwz,azzm,cdpmb,dlvwgoqrb,fllqz,gpzezlpkhx,gsfcvscb,jisvodzev,kksha,leoyso,mlgxyeje,odtgki,qbtlgpr,qdnzaofdul,stucnwq,uvqagvoci,wceb,wgcc,wqqcgfdrz,yekngmxvl,ygsvmp\n",
      "ajlnnwoshq,bhquemc,capbar,ddrivh,duqbbr,ffgvbvu,fhzppgg,gjiakwggl,hiblh,mrfqorwt,pnurqum,pscynros,reoypcpdf,tnqpcuprb,wmalu,wxrzaczdxo,xheeyex,ybogte,zfmgkii,zwjcbk\n",
      "bizgwlhd,bntmfievl,cmjhn,gzket,iudli,jccxs,lfoii,mpnsdc,nkdsq,nlfwc,ozscaurc,qvmiqgujtu,romqe,rvccgjonwi,sbhcsswwjw,sfiznvnm,szjttm,ttthvpn,wkycvcexfq,zfrfueyini,zhjgbnqt,zyhqgzx\n",
      "barobyx,bcemuyo,cdlqrbzm,fxlzuih,hgjmbl,hwmpcmc,nwbz,pubh,swegpvsrwn,ucmzlbfdh,ybgkebsg,zsay\n",
      "cetzliy,dilzcmrhal,eduzgvwyoh,gpeovzmc,hqhbtfysdg,hyvupcwid,iojt,mjxz,mkkrl,ojvgtdwxv,ozyeatzzgy,pxfq,qluvy,qsbjdxw,qslvbid,sxqlujcxl,tgdpk,ufopfloae,vcumncjwwx,vgdnsrpkyu,xlkgwouj,xydxym,yurwgmz,yvwvbj\n",
      "afhpi,bcpg,hybw,paqa,xzrbdaa\n",
      "ahuebf,dlmqooipw,fjvun,jwjonhwt,kbvfrjmmqb,kxnjigkrtv,nfnzpcxbxx,nrikxajl,ovjepjw,owjp,phwbe,puybezu,qmqced,qobhlb,rxpsyvtjxu,terebfn,twemgafn,wlhwi,xnztolyl,yoebyfvbu,yvmjvwgsd\n",
      "bxyhqkj,gsegpdc,kdhgwpyk,slbjus,thvzrxp,tstjrsk,vixnsuinq\n",
      "dnqnacypn,ippxinxyo,iviig,sljjejrit\n",
      "cafucf,cpklaq,fdrtateh,ftuziaz,ipkvbsuw,jknpsgqs,kfpwymytli,mlvoxdawm,msjnvrov,njcggw,nufxsfd,popcsqztf,qhfexc,qpcoxc,uvkwccufyx,ykzkyepfiz,ynmng\n",
      "aqycacz,aycngcexc,fnfbkg,gkuhjodvu,idgxksobhm,jton,kfcfjqaaun,nikesypl,oejdr,qwwmto,uaaa,xtdxshmqo,xxqgdaxusl,yqwe,zoautujf\n",
      "anhdczgwy,bckgt,bfmkg,bpnpga,bswoskouaq,ecrwncen,ifqoqhp,ihbs,illwawo,jowit,kiabyjen,kkkk,mnloocoveg,mtfygngog,oarsrpd,oshnlmy,rdrqwxwpa,rysdvbbe,smooqqiwb,tlogmaedu,upqrvzjbei,xybbcvgjj,yraibs,yupbpfc\n",
      "abykjbz,anrfp,buxptcmkod,bznjx,cflzhk,egbhzary,ggeobpxok,hrasztr,iiuqjvhpll,iqoy,ljodvjnkle,lxiehppdue,mxnb,nngnfsepx,otlu,ovdrggix,pojisf,skooqhzggf,vxjughn,ycqcuuswz,yjyejd,zmbwyr\n",
      "baxyntn,cdqcqwin,cefwypduu,dxaqflwg,dzngvhjg,edhjj,jllzded,kytpf,lbfo,lupbn,mbtm,mlawql,ntsn,oaqwq,pdbcsfylny,peupk,pgielmost,sphwevyter,sqmdutsmm,tgagz,tizvnwp\n"
     ]
    }
   ],
   "source": [
    "# This will test your function \n",
    "test_alpha(sort_alpha)"
   ]
  },
  {
   "cell_type": "markdown",
   "metadata": {},
   "source": [
    "## 12. Write a function to check if a given password is strong (at least 8 characters, at least one lower case, at least one upper case, at least one number and at least one special character). It should output True if strong and False if not."
   ]
  },
  {
   "cell_type": "code",
   "execution_count": 141,
   "metadata": {},
   "outputs": [],
   "source": [
    "def check_pass(password):\n",
    "    checker = 0\n",
    "    # status list of fullfiled requirments for a pasword [len,lowewr,upper,number,special]\n",
    "    check_list = [0,0,0,0,0] \n",
    "    if len(password) < 8:\n",
    "        print(f\"Error Code {check_list}\") \n",
    "        return False\n",
    "    else:   \n",
    "        check_list[0] = 1 \n",
    "    for element in password:\n",
    "        if element.islower():\n",
    "                check_list[1] = 1\n",
    "        elif element.isupper():       \n",
    "                check_list[2] = 1\n",
    "        elif element.isdigit(): \n",
    "                check_list[3] = 1\n",
    "        elif element.isalnum() == False: \n",
    "                check_list[4] = 1     \n",
    "    print(f\"Securite status {sum(check_list)}/5\")\n",
    "    print(f\"Error code {check_list}\")  \n",
    "    \n",
    "    if sum(check_list) == 5:\n",
    "          return True\n",
    "    else:\n",
    "          return False\n"
   ]
  },
  {
   "cell_type": "code",
   "execution_count": 142,
   "metadata": {},
   "outputs": [
    {
     "name": "stderr",
     "output_type": "stream",
     "text": [
      "....................................................................................................\n",
      "----------------------------------------------------------------------\n",
      "Ran 100 tests in 0.062s\n",
      "\n",
      "OK\n"
     ]
    },
    {
     "name": "stdout",
     "output_type": "stream",
     "text": [
      "Securite status 5/5\n",
      "Error code [1, 1, 1, 1, 1]\n",
      "Securite status 5/5\n",
      "Error code [1, 1, 1, 1, 1]\n",
      "Securite status 4/5\n",
      "Error code [1, 1, 1, 0, 1]\n",
      "Error Code [0, 0, 0, 0, 0]\n",
      "Securite status 5/5\n",
      "Error code [1, 1, 1, 1, 1]\n",
      "Error Code [0, 0, 0, 0, 0]\n",
      "Securite status 5/5\n",
      "Error code [1, 1, 1, 1, 1]\n",
      "Securite status 4/5\n",
      "Error code [1, 1, 1, 0, 1]\n",
      "Securite status 4/5\n",
      "Error code [1, 1, 1, 1, 0]\n",
      "Error Code [0, 0, 0, 0, 0]\n",
      "Error Code [0, 0, 0, 0, 0]\n",
      "Securite status 4/5\n",
      "Error code [1, 1, 1, 0, 1]\n",
      "Securite status 5/5\n",
      "Error code [1, 1, 1, 1, 1]\n",
      "Error Code [0, 0, 0, 0, 0]\n",
      "Securite status 3/5\n",
      "Error code [1, 1, 1, 0, 0]\n",
      "Securite status 5/5\n",
      "Error code [1, 1, 1, 1, 1]\n",
      "Securite status 3/5\n",
      "Error code [1, 1, 1, 0, 0]\n",
      "Securite status 4/5\n",
      "Error code [1, 1, 0, 1, 1]\n",
      "Securite status 5/5\n",
      "Error code [1, 1, 1, 1, 1]\n",
      "Securite status 4/5\n",
      "Error code [1, 1, 0, 1, 1]\n",
      "Securite status 4/5\n",
      "Error code [1, 1, 1, 1, 0]\n",
      "Securite status 4/5\n",
      "Error code [1, 1, 1, 0, 1]\n",
      "Error Code [0, 0, 0, 0, 0]\n",
      "Error Code [0, 0, 0, 0, 0]\n",
      "Securite status 3/5\n",
      "Error code [1, 1, 0, 0, 1]\n",
      "Securite status 4/5\n",
      "Error code [1, 1, 1, 0, 1]\n",
      "Error Code [0, 0, 0, 0, 0]\n",
      "Securite status 4/5\n",
      "Error code [1, 1, 1, 1, 0]\n",
      "Error Code [0, 0, 0, 0, 0]\n",
      "Securite status 5/5\n",
      "Error code [1, 1, 1, 1, 1]\n",
      "Error Code [0, 0, 0, 0, 0]\n",
      "Securite status 4/5\n",
      "Error code [1, 1, 1, 0, 1]\n",
      "Securite status 4/5\n",
      "Error code [1, 1, 1, 1, 0]\n",
      "Securite status 5/5\n",
      "Error code [1, 1, 1, 1, 1]\n",
      "Error Code [0, 0, 0, 0, 0]\n",
      "Securite status 5/5\n",
      "Error code [1, 1, 1, 1, 1]\n",
      "Securite status 5/5\n",
      "Error code [1, 1, 1, 1, 1]\n",
      "Securite status 5/5\n",
      "Error code [1, 1, 1, 1, 1]\n",
      "Securite status 4/5\n",
      "Error code [1, 1, 1, 1, 0]\n",
      "Error Code [0, 0, 0, 0, 0]\n",
      "Securite status 5/5\n",
      "Error code [1, 1, 1, 1, 1]\n",
      "Error Code [0, 0, 0, 0, 0]\n",
      "Securite status 4/5\n",
      "Error code [1, 1, 1, 1, 0]\n",
      "Securite status 4/5\n",
      "Error code [1, 1, 1, 0, 1]\n",
      "Securite status 4/5\n",
      "Error code [1, 1, 1, 0, 1]\n",
      "Securite status 5/5\n",
      "Error code [1, 1, 1, 1, 1]\n",
      "Securite status 4/5\n",
      "Error code [1, 1, 1, 1, 0]\n",
      "Securite status 3/5\n",
      "Error code [1, 1, 1, 0, 0]\n",
      "Error Code [0, 0, 0, 0, 0]\n",
      "Error Code [0, 0, 0, 0, 0]\n",
      "Securite status 4/5\n",
      "Error code [1, 1, 1, 0, 1]\n",
      "Error Code [0, 0, 0, 0, 0]\n",
      "Securite status 5/5\n",
      "Error code [1, 1, 1, 1, 1]\n",
      "Securite status 4/5\n",
      "Error code [1, 1, 1, 0, 1]\n",
      "Securite status 4/5\n",
      "Error code [1, 1, 1, 1, 0]\n",
      "Securite status 3/5\n",
      "Error code [1, 1, 1, 0, 0]\n",
      "Securite status 4/5\n",
      "Error code [1, 1, 1, 0, 1]\n",
      "Securite status 3/5\n",
      "Error code [1, 1, 1, 0, 0]\n",
      "Securite status 3/5\n",
      "Error code [1, 1, 1, 0, 0]\n",
      "Securite status 4/5\n",
      "Error code [1, 1, 1, 0, 1]\n",
      "Securite status 5/5\n",
      "Error code [1, 1, 1, 1, 1]\n",
      "Error Code [0, 0, 0, 0, 0]\n",
      "Error Code [0, 0, 0, 0, 0]\n",
      "Securite status 4/5\n",
      "Error code [1, 1, 1, 0, 1]\n",
      "Securite status 3/5\n",
      "Error code [1, 1, 1, 0, 0]\n",
      "Securite status 5/5\n",
      "Error code [1, 1, 1, 1, 1]\n",
      "Error Code [0, 0, 0, 0, 0]\n",
      "Securite status 5/5\n",
      "Error code [1, 1, 1, 1, 1]\n",
      "Securite status 5/5\n",
      "Error code [1, 1, 1, 1, 1]\n",
      "Securite status 4/5\n",
      "Error code [1, 1, 1, 0, 1]\n",
      "Securite status 4/5\n",
      "Error code [1, 1, 1, 1, 0]\n",
      "Securite status 4/5\n",
      "Error code [1, 1, 1, 1, 0]\n",
      "Securite status 5/5\n",
      "Error code [1, 1, 1, 1, 1]\n",
      "Error Code [0, 0, 0, 0, 0]\n",
      "Error Code [0, 0, 0, 0, 0]\n",
      "Securite status 4/5\n",
      "Error code [1, 1, 1, 0, 1]\n",
      "Error Code [0, 0, 0, 0, 0]\n",
      "Error Code [0, 0, 0, 0, 0]\n",
      "Error Code [0, 0, 0, 0, 0]\n",
      "Securite status 4/5\n",
      "Error code [1, 1, 1, 0, 1]\n",
      "Securite status 4/5\n",
      "Error code [1, 1, 0, 1, 1]\n",
      "Securite status 4/5\n",
      "Error code [1, 1, 1, 1, 0]\n",
      "Securite status 4/5\n",
      "Error code [1, 1, 1, 1, 0]\n",
      "Securite status 3/5\n",
      "Error code [1, 1, 1, 0, 0]\n",
      "Error Code [0, 0, 0, 0, 0]\n",
      "Securite status 4/5\n",
      "Error code [1, 1, 1, 1, 0]\n",
      "Error Code [0, 0, 0, 0, 0]\n",
      "Securite status 4/5\n",
      "Error code [1, 1, 1, 1, 0]\n",
      "Error Code [0, 0, 0, 0, 0]\n",
      "Securite status 4/5\n",
      "Error code [1, 1, 1, 0, 1]\n",
      "Securite status 5/5\n",
      "Error code [1, 1, 1, 1, 1]\n",
      "Securite status 4/5\n",
      "Error code [1, 1, 0, 1, 1]\n",
      "Error Code [0, 0, 0, 0, 0]\n",
      "Error Code [0, 0, 0, 0, 0]\n",
      "Securite status 3/5\n",
      "Error code [1, 1, 0, 0, 1]\n",
      "Securite status 4/5\n",
      "Error code [1, 1, 1, 0, 1]\n",
      "Securite status 3/5\n",
      "Error code [1, 1, 1, 0, 0]\n",
      "Securite status 4/5\n",
      "Error code [1, 1, 1, 0, 1]\n",
      "Error Code [0, 0, 0, 0, 0]\n",
      "Securite status 5/5\n",
      "Error code [1, 1, 1, 1, 1]\n"
     ]
    }
   ],
   "source": [
    "# This will test your function \n",
    "test_pass(check_pass)"
   ]
  }
 ],
 "metadata": {
  "kernelspec": {
   "display_name": "base",
   "language": "python",
   "name": "python3"
  },
  "language_info": {
   "codemirror_mode": {
    "name": "ipython",
    "version": 3
   },
   "file_extension": ".py",
   "mimetype": "text/x-python",
   "name": "python",
   "nbconvert_exporter": "python",
   "pygments_lexer": "ipython3",
   "version": "3.12.4"
  }
 },
 "nbformat": 4,
 "nbformat_minor": 4
}
