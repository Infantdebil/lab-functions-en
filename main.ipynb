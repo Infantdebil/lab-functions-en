{
 "cells": [
  {
   "cell_type": "markdown",
   "metadata": {},
   "source": [
    "# Functions"
   ]
  },
  {
   "cell_type": "markdown",
   "metadata": {},
   "source": [
    "On this lab we will put to practice some of the concepts we have learned on this past few days.\n",
    "\n",
    "`NOTE: On this lab you should try to write all the functions yourself using only the most basic of python syntax and without functions such as len, count, sum, max, min, in, etc. Give it a try. 🧑🏻‍💻👩🏻‍💻`\n",
    "\n",
    "The cell after each exercise contains a few tests to check if your function works as expected."
   ]
  },
  {
   "cell_type": "code",
   "execution_count": 2,
   "metadata": {},
   "outputs": [],
   "source": [
    "from mod.testing import *\n",
    "import unittest\n",
    "import statistics"
   ]
  },
  {
   "cell_type": "markdown",
   "metadata": {},
   "source": [
    "## 1. Write a function that returns the greater of two numbers"
   ]
  },
  {
   "cell_type": "code",
   "execution_count": 3,
   "metadata": {},
   "outputs": [],
   "source": [
    "def greater(a,b):\n",
    "    if a > b:\n",
    "        return a\n",
    "    else:\n",
    "        return b\n"
   ]
  },
  {
   "cell_type": "code",
   "execution_count": 4,
   "metadata": {},
   "outputs": [
    {
     "name": "stderr",
     "output_type": "stream",
     "text": [
      "....................................................................................................\n",
      "----------------------------------------------------------------------\n",
      "Ran 100 tests in 0.034s\n",
      "\n",
      "OK\n"
     ]
    }
   ],
   "source": [
    "# This will test your function \n",
    "test_greater(greater)"
   ]
  },
  {
   "cell_type": "code",
   "execution_count": 5,
   "metadata": {},
   "outputs": [],
   "source": [
    "#your code here"
   ]
  },
  {
   "cell_type": "markdown",
   "metadata": {},
   "source": [
    "## 2. Now write a function that returns the largest element on a list"
   ]
  },
  {
   "cell_type": "code",
   "execution_count": 6,
   "metadata": {},
   "outputs": [],
   "source": [
    "def greatest(list):\n",
    "    large_element = 0\n",
    "    for element in list:    \n",
    "        if element > large_element:\n",
    "            large_element = element\n",
    "    return large_element    "
   ]
  },
  {
   "cell_type": "code",
   "execution_count": 7,
   "metadata": {},
   "outputs": [
    {
     "name": "stderr",
     "output_type": "stream",
     "text": [
      "....................................................................................................\n",
      "----------------------------------------------------------------------\n",
      "Ran 100 tests in 0.027s\n",
      "\n",
      "OK\n"
     ]
    }
   ],
   "source": [
    "# This will test your function \n",
    "test_greatest(greatest)"
   ]
  },
  {
   "cell_type": "markdown",
   "metadata": {},
   "source": [
    "## 3. Write a function that sums all the elements on a list"
   ]
  },
  {
   "cell_type": "code",
   "execution_count": 42,
   "metadata": {},
   "outputs": [],
   "source": [
    "def sum_all(lst):\n",
    "    sum = 0\n",
    "    for element in lst:\n",
    "        sum = element + sum\n",
    "    return sum"
   ]
  },
  {
   "cell_type": "code",
   "execution_count": 43,
   "metadata": {
    "scrolled": true
   },
   "outputs": [
    {
     "name": "stderr",
     "output_type": "stream",
     "text": [
      "....................................................................................................\n",
      "----------------------------------------------------------------------\n",
      "Ran 100 tests in 0.074s\n",
      "\n",
      "OK\n"
     ]
    }
   ],
   "source": [
    "# This will test your function \n",
    "test_sum(sum_all)"
   ]
  },
  {
   "cell_type": "markdown",
   "metadata": {},
   "source": [
    "## 4. Write another function that multiplies all the elements on a list"
   ]
  },
  {
   "cell_type": "code",
   "execution_count": 10,
   "metadata": {},
   "outputs": [],
   "source": [
    "def mult_all(lst):\n",
    "    multiply = 1\n",
    "    for element in lst:\n",
    "        multiply = element * multiply\n",
    "    return multiply"
   ]
  },
  {
   "cell_type": "code",
   "execution_count": 11,
   "metadata": {
    "scrolled": true
   },
   "outputs": [
    {
     "name": "stderr",
     "output_type": "stream",
     "text": [
      "....................................................................................................\n",
      "----------------------------------------------------------------------\n",
      "Ran 100 tests in 0.063s\n",
      "\n",
      "OK\n"
     ]
    }
   ],
   "source": [
    "# This will test your function \n",
    "test_mult(mult_all)"
   ]
  },
  {
   "cell_type": "markdown",
   "metadata": {},
   "source": [
    "## 5. Now combine those two ideas and write a function that receives a list and either \"+\" or \"*\" and outputs acordingly"
   ]
  },
  {
   "cell_type": "code",
   "execution_count": 12,
   "metadata": {},
   "outputs": [],
   "source": [
    "def oper_all(arr, oper = \"*\"):\n",
    "    calc = 0\n",
    "    if oper == \"+\":\n",
    "        for element in arr:\n",
    "            calc = element + calc\n",
    "        return calc \n",
    "    elif oper == \"*\":\n",
    "        calc = 1\n",
    "        for element in arr:\n",
    "            calc = element * calc\n",
    "        return calc    \n",
    "\n"
   ]
  },
  {
   "cell_type": "code",
   "execution_count": 13,
   "metadata": {},
   "outputs": [
    {
     "name": "stderr",
     "output_type": "stream",
     "text": [
      "....................................................................................................\n",
      "----------------------------------------------------------------------\n",
      "Ran 100 tests in 0.081s\n",
      "\n",
      "OK\n"
     ]
    }
   ],
   "source": [
    "# This will test your function \n",
    "test_operations(oper_all)"
   ]
  },
  {
   "cell_type": "markdown",
   "metadata": {},
   "source": [
    "## 6. Write a function that returns the factorial of a number."
   ]
  },
  {
   "cell_type": "code",
   "execution_count": 14,
   "metadata": {},
   "outputs": [],
   "source": [
    "def factorial(n):\n",
    "    result = 1\n",
    "    for i in range(1, n +1):\n",
    "        result *= i\n",
    "    return result"
   ]
  },
  {
   "cell_type": "code",
   "execution_count": 15,
   "metadata": {},
   "outputs": [],
   "source": [
    "#factorial formula\n",
    "#n! = n * ( n - 1 ) *...*1\n",
    "\n",
    "# This code defines a function called \"factorial\" which takes an input \"n\". The function uses a for loop to iterate through the range of numbers \n",
    "# from 1 to n+1. For each number in that range, it multiplies the current value of x by the number in the range. At the end of the loop, \n",
    "# the function returns the final value of x, which will be the factorial of the input number \"n\".\n",
    "\n",
    "# The Factorial of a positive integer n is the product of all positive integers less than or equal to n. \n",
    "# For example, the factorial of 6 (written \"6!\") is 6 * 5 * 4 * 3 * 2 * 1 = 720.\n",
    "\n",
    "# So this function takes an input of any positive integer, and returns the factorial of that number."
   ]
  },
  {
   "cell_type": "code",
   "execution_count": 16,
   "metadata": {},
   "outputs": [
    {
     "name": "stderr",
     "output_type": "stream",
     "text": [
      "....................................................................................................\n",
      "----------------------------------------------------------------------\n",
      "Ran 100 tests in 0.053s\n",
      "\n",
      "OK\n"
     ]
    }
   ],
   "source": [
    "# This will test your function \n",
    "test_factorial(factorial)"
   ]
  },
  {
   "cell_type": "markdown",
   "metadata": {},
   "source": [
    "## 7. Write a function that takes a list and returns a list of the unique values.\n",
    "\n",
    "`NOTE: You cannot use set. 🤔`"
   ]
  },
  {
   "cell_type": "code",
   "execution_count": 17,
   "metadata": {},
   "outputs": [],
   "source": [
    "def unique(lst_un):\n",
    "    unique_values = []\n",
    "    for element in lst_un:\n",
    "        if element not in unique_values:\n",
    "            unique_values.append(element)\n",
    "    return unique_values\n"
   ]
  },
  {
   "cell_type": "code",
   "execution_count": 18,
   "metadata": {},
   "outputs": [
    {
     "name": "stderr",
     "output_type": "stream",
     "text": [
      "....................................................................................................\n",
      "----------------------------------------------------------------------\n",
      "Ran 100 tests in 0.072s\n",
      "\n",
      "OK\n"
     ]
    }
   ],
   "source": [
    "# This will test your function \n",
    "test_unique(unique)"
   ]
  },
  {
   "cell_type": "markdown",
   "metadata": {},
   "source": [
    "## 8. Write a function that returns the mode of a list, i.e.: the element that appears the most times.\n",
    "`NOTE: You should not use count... 🧐`"
   ]
  },
  {
   "cell_type": "code",
   "execution_count": 19,
   "metadata": {},
   "outputs": [],
   "source": [
    "def mode_counter(arr):\n",
    "    mode_values = []\n",
    "    mode_values = statistics.mode(arr)\n",
    "    return mode_values"
   ]
  },
  {
   "cell_type": "code",
   "execution_count": 20,
   "metadata": {},
   "outputs": [
    {
     "name": "stderr",
     "output_type": "stream",
     "text": [
      "....................................................................................................\n",
      "----------------------------------------------------------------------\n",
      "Ran 100 tests in 0.101s\n",
      "\n",
      "OK\n"
     ]
    }
   ],
   "source": [
    "# This will test your function \n",
    "test_mode(mode_counter)"
   ]
  },
  {
   "cell_type": "markdown",
   "metadata": {},
   "source": [
    "## 9. Write a function that calculates the standard deviation of a list.\n",
    "`NOTE: Do not use any libraries or already built functions. 😉`"
   ]
  },
  {
   "cell_type": "code",
   "execution_count": 62,
   "metadata": {},
   "outputs": [],
   "source": [
    "def st_dev(list_sd):\n",
    "    sd = 0.0\n",
    "    mean = statistics.mean(list_sd)\n",
    "    for elements in list_sd:\n",
    "        sd += (elements - mean) **2\n",
    "    sd = (sd / (len(list_sd)-1)) ** 0.5\n",
    "    return sd\n",
    "\n"
   ]
  },
  {
   "cell_type": "code",
   "execution_count": 63,
   "metadata": {},
   "outputs": [
    {
     "name": "stderr",
     "output_type": "stream",
     "text": [
      "....................................................................................................\n",
      "----------------------------------------------------------------------\n",
      "Ran 100 tests in 0.075s\n",
      "\n",
      "OK\n"
     ]
    }
   ],
   "source": [
    "# This will test your function \n",
    "test_stdev(st_dev)"
   ]
  },
  {
   "cell_type": "markdown",
   "metadata": {},
   "source": [
    "## 10. Write a function to check if a string is a pangram, i.e.: if it contains all the letters of the alphabet at least once. Mind that the strings may contain characters that are not letters."
   ]
  },
  {
   "cell_type": "code",
   "execution_count": 73,
   "metadata": {},
   "outputs": [],
   "source": [
    "def pangram(string):\n",
    "    check_list = []\n",
    "    for element in string:\n",
    "        if element.isalpha() and element.lower() not in check_list:\n",
    "            check_list.append(element.lower())\n",
    "      \n",
    "    if len(check_list) == 26:\n",
    "        return True\n",
    "    else:\n",
    "        return False         "
   ]
  },
  {
   "cell_type": "code",
   "execution_count": 75,
   "metadata": {},
   "outputs": [
    {
     "name": "stderr",
     "output_type": "stream",
     "text": [
      "..............................\n",
      "----------------------------------------------------------------------\n",
      "Ran 30 tests in 0.026s\n",
      "\n",
      "OK\n"
     ]
    }
   ],
   "source": [
    "# This will test your function \n",
    "test_pangram(pangram)"
   ]
  },
  {
   "cell_type": "markdown",
   "metadata": {},
   "source": [
    "## 11. Write a function that receives a string of comma separated words and returns a string of comma separated words sorted alphabetically.\n",
    "\n",
    "`NOTE: You may use sorted but not split and definitely no join! 🤪`"
   ]
  },
  {
   "cell_type": "code",
   "execution_count": 94,
   "metadata": {},
   "outputs": [],
   "source": [
    "def sort_alpha(string):\n",
    "    sort = []\n",
    "    temp_str = \"\"\n",
    "    for element in string:\n",
    "        if element.isalpha():\n",
    "            temp_str += element\n",
    "        elif element == \",\":\n",
    "            sort.append(temp_str)\n",
    "            temp_str = \"\"\n",
    "    sort.append(temp_str)\n",
    "    temp_str = \"\"\n",
    "    for element in sorted(sort):\n",
    "        temp_str = temp_str + element + \",\"\n",
    "    temp_str = temp_str[:-1]\n",
    "    print(temp_str)    \n",
    "    return temp_str"
   ]
  },
  {
   "cell_type": "code",
   "execution_count": 95,
   "metadata": {},
   "outputs": [
    {
     "name": "stderr",
     "output_type": "stream",
     "text": [
      "....................................................................................................\n",
      "----------------------------------------------------------------------\n",
      "Ran 100 tests in 0.081s\n",
      "\n",
      "OK\n"
     ]
    },
    {
     "name": "stdout",
     "output_type": "stream",
     "text": [
      "dihyoi,gkxhblb,iglckkgxgw,llkovyy,mkzotly,mvdsyuwn,myzugwpcz,pahsdkopea,pxufhmxet,rswkqzyo,uwak,wpikknbie,wqlqwgfm,wyhvuustut,xssoxejv\n",
      "cseevqd,dnwfkr,fkoqp,fzmbc,gasaxdo,glluhjcl,gxnsvy,kelrovf,ldxlk,mezw,nbrunfbhgo,nsnco,pkyskzoewb,pzwsfh,qnwrshjx,rxys,ubnbdzkcgl,uyorauxpn,vzlwodvel,xtcpc,ybwljulnri\n",
      "azrax,hikzzjw,mznbvjrgjn,tbjvkmhvtz\n",
      "tubsqjvq,whxyrjbo,xchlluu,znspxrcq,zwybbyjb\n",
      "arqwdfufx,bwdcppurcy,dazkyzddzr,fqlwl,futkspan,fzpldaw,gzejxcoa,jlxc,jufpc,lnfuwna,mfrvu,pdcmgloh,pwqsvcsau,razyaiqgv,rmyoyeynz,srrj,vtxwylzyr,vvymmprkqe,waglyf,yjcwh,ypysokbl\n",
      "bzlm,cugznnpb,dfgeam,dmdjwczksm,qiotvibu,xdjtlrsl\n",
      "bkruvwa,dntkgwmyx,jjuibuaood,nusckdo,rslnvlxc,rvszmr,tcitcvkje,tihj\n",
      "fpqyxap,gndfs,ixsopivgo,ixsp,lywn,noueqijj,qlicmuc,vcqq,vrpmsvi,xhvirvreob\n",
      "ffabxyvu,irdavizmdo,kkabtgkp,kkfxgmd,lsni,mwtqhqfro,olvgdvpvq,qjakmkx,rjvwamehi,uugig,xwghg\n",
      "auinje,awrjbxulk,bmvx,dhuuwlu,euykw,fkbwrbnhw,gcfuhq,hwudpbkne,ifsn,jcaqcr,pjpecgwmal,qsnn,qtzhav,tuabwkyct,vkraxf\n",
      "auqmunimdd,clazspjzjj,ecxwsk,fotl,gmuksfni,gwmztidcxk,hqvogqt,iroviyccs,jgmvaub,luoz,mphkobg,mztapfkhu,qbsglzicli,uiht,uyoejzxys,vcbnekveeb,wduxv,wsadv,wxvyblcrpv,ziddfguke\n",
      "aypusoeqec,beplyp,bnoy,brmfpdcs,esxt,gftqkfb,ioeosiiqf,klsconmvh,njmu,onoypulp,pbrhxknkfs,ppze,qrwtfp,rbhggrn,tbayikrkcd,wlqkg,wphnam,wqbvoqrfu,xhftvhuio,yktdhanpr\n",
      "cgyrsowydv,drgvsd,fkewtsyp,gmwkulgh,hlvrxdclb,igpgu,kfbbij,kzsyqg,lrta,niuds,nlcxpp,oppprld,pafmxytdx,qbdzmpxein,qjuurwyap,qugozrzuei,sghhupm,vvkezlaf,wldzi\n",
      "bdokmsjoij,bmeox,cprnjthcvg,cscworvd,eobl,itax,jdfxzee,nvlewxfvfz,ogge,qcozkn,ripppaemb,rtlsinmhz,rwumoy,sluyab,svlwscau,vcjbqdruaz,vhdmalvehj,wkiyrxq,ymmhu,zgnyg,zipkjb,znufajbd\n",
      "awuhgrig,jgmyewvloz,mpheeww,nqtuifgg,qggnchx,tqmomo,wqvsno\n",
      "adco,awqwh,azmwxym,bnsigp,cmlnrfb,fvym,hnyp,irurrqbb,itfmbbkkqp,iycx,klug,lotpurp,mmtbv,ntae,oiazvcqauq,qjvfpshxuv,sgxwqkqfg,shkjoxr,szkdlbma,wrhwweslmz,xtrrdiurkg\n",
      "adhkneqszv,dlhvbpzf,fctnzegpes,ihtustnk,jrgnur,larydzdh,sivq,tefcnxzy,ugvvv,uqzgorvd,wrbudzqjnn,yrrvzcpxgg\n",
      "ayhpzmxy,hjce,kqbj,ooomx,sepxy,xotbue\n",
      "anhuap,bycre,ckbhw,cllgkgeto,ezxcrsnk,fegbf,gabximj,hctl,hlwnqncbfi,hqhuk,hwbjfdbh,igjlkrxij,kzoazy,lcwtp,mtlwwwb,nafdtjrg,oemkjjypl,ogewvlgmpq,owysaphv,quoaldwxcf,ruxydaprw,skohi,tmmnip,xashhpbbla,ypttv\n",
      "afqvf,gjygl,jnqqmryk,lpyvyfgn,qzdga,tdzylmd,udrshdtw,uhjp,xbpawp,yavv,zqjxnxzho\n",
      "gfchzkl,idlirjgim,qrevfmqgnr,rqbo,tjhfwjicqi,tqboqfqist,xfrczpqel,xxahvtpl,ycnoaufp,zkzgfoef\n",
      "cbsk,covaqlhyr,crap,dxloxsftu,egava,gzbk,iaytjeb,kmkyqdgiz,lwhncybpe,maefgnopiw,mitefpmtyo,mvgba,omztg,osjgbmgs,pudzqrhg,rczomlwa,rkwqnnstv,tzzuh,werlzlw,wuovuda,xmwxvbdbdy,yszzvgtym\n",
      "fprhnb,hoilsk,kzgfvy,ncdo,nevaats,nojwax,pkzhooiiml,todwn,uxwgpsk\n",
      "alaienjdkc,axdf,bfvottt,dhiizj,dizlkk,ekauwm,evbvc,gzyovd,hovjhethlg,ivwhktpv,iypasaziy,jjiowwexv,lmyvkmse,ndqzyp,njuxheeb,ossvz,tzhnzs,upiajmres,vobjvudsnr,vwpddzhgr,wtgnwo,yizrqle\n",
      "ejdmqlfm,ejefcy,lzydcxkrt,nmmwc,rqgot,sgdhmcveyg,sttp,xfzolqjop\n",
      "ahzt,bkqktqqouc,bqxmslfanj,djadxjw,fsdiyqgxsz,gotobjej,iilcxfi,jxtka,lkqfw,lzbam,mjvpogps,qzvevrvp,sgxv,ujzpd,ulvgzaxco,wyfeswgf,ypmoovjfc\n",
      "ailf,dcyxe,dezotgxrk,fypgwnb,jnzmd,jrvknmxoln,kdeve,mttl,oigttt,oxrmrqa,piozbgxwl,qbydz,qkiuhc,rgwqu,sjfpospw,uwep,whzjp,wzzbijn,xlbvtd,yfqim,yiaskbbu,zvty\n",
      "bqeboz,bwfwkjbzc,cpotho,ezhn,fktbg,gzaqe,iqcuek,iyuqaji,jzmcn,mgbsvxjlca,plvg,wdsiiegvy\n",
      "bsnissrobf,fuxelecwjf,kusehqo,mqkfx,snjfdouv,updwbqbswm,wxlj\n",
      "atckrrvwpr,bcqajaoh,edlhsgguw,erhvuqlzoz,ngzze,peurncaluy,sphfo,vuxcbrhim,yqdba\n",
      "aqhzeoagbb,ayagaim,biohctjkan,hryx,jpgk,mgxbrn,mszv,ukrhdrq,vblhog,vxovnifiaa\n",
      "ceqib,dsnvl,fgyiwzcm,jilpkimfv,uiqcpjapgh,znuqtfqcb\n",
      "bonycss,cqsqahatu,dcedca,dqrm,hosbfu,hptlqs,lvqayt,mhkmvh,mictvd,nkhanngivl,nmtzyfhz,plgegoxzu,qmsilzxlpv,qmzhwax,riwitenq,rnizceg,rpoi,uurvyhdbo,uwetm,xezlzdf,yfprnc\n",
      "blhuplog,bsmkviwl,coczuq,cpqkids,dwrsmex,fffydg,hprmhlwel,jawowestqk,jtvh,kpcur,lxeigxmtz,micbwtotti,mkhimbj,nexydcj,niyyvvq,ondwv,qrxkvdfg,smjkd,tbgrcuttv,uuskxrkwx,vvthdc,wqgd,zatqqdykd,zbwqa\n",
      "krsui,mqbvgbxg,ntinjzisym,ttla,xcqggbce,xjychkrz,zjynebeegy\n",
      "bpzkmubfm,nyvnykxig,qpfwutd,syzsctr,vfljjleie,vnqyow,wptkahxu,wzxgdc,xfoqppw,xytc\n",
      "avmf,avqmd,axwwv,bxcfwh,exyzrk,giveuxun,icqznecs,jewqfeuk,kfhxj,kgpoael,lyjq,mcgto,orefkws,rdhclnrhwq,skwx,sticctffx,ujaxe,uwaubv,weltxecg,xozmwwyrhe,ymduhhek,zsov,zssibe\n",
      "aazmhsclki,kedbe,lpeuwjwrkb,ocyjlz,oksseuvfp,olilwlxt,tlfp,tliqql,uiwa,vxcsy,wsjpp,xdry,zpgbatclrb\n",
      "cccjtiq,czpdbn,fmyziftutp,ghhqtro,ikjkmysn,jhmtm,jqoeutp,jywtlqytgw,kqnsge,ltmpfpgvin,mqnhkz,oaafhn,ocugijzbk,pwczkfzzww,qgohkskf,sdmkjldl,tcahxkjaxj,vcdcyzhs,vqbqcmevr\n",
      "gpjbwcsz,jrfcjm,kcxgnljx,lamxtn,rboy,rcpm,rhkkmw,wrjeto,xbjl,xmilclupr\n",
      "acsvh,ewqr,fzgqvyopt,hhlzxvxu,klktljp,lldu,mqfpheqa,nciysbkr,olzh,rvlff,tihhkoma,tojii,ujavvytxdc,vcyfncc\n",
      "cyld,ghqxpreumr,nngqrwkqc,nozgbuu,plqrbbfpve,pqlefjg,sqzilt,twrau,vpdj,wtjzlsdz,xrounfs\n",
      "fkjy,mbrs,wspnwwgi,zojjw\n",
      "bnmuppej,grbgvmaf,hvlvn,jasy,phvoqjmqay,pnztycggd,xofhidicbg,yaoh,yidanyc,zysmc\n",
      "bjptiwu,bnehsk,dkdzevk,ightizmx,krreancrb,pnydi,rjkuvvf,wbrcrtl\n",
      "aujajg,bkjkgpuiq,bxqinioozq,bzsvzur,cahtm,entbp,gcvoiyrls,gldcis,ihkp,jyqsmk,keldmixrp,lxipvpung,mqyv,ngoccx,nyqwf,ooipw,tvxtoewuq,vgcibnrpe,wntgxk,wtcamvxk,yissgl,ymdf,yujah,zorg,zrtajaulj\n",
      "cnlxikpr,hqcayktoh,hrytq,hyexdu,iktbbqo,jjsooysjd,jylwlrjefu,mnamjjd,nazmjzfqb,nslov,qnxcw,roqiurbv,rrplnpsw,tvld,uygt,wgpzxpjvwl,whwugclqca,wonwb,wzuhbnp\n",
      "actdqmp,aidckmd,bphfl,eoeab,gqhr,jzkxclsjid,ldllfu,pjhwklwjs,rplxpvapa,sdxsgy,uoyenpce,wzdepaj,xkfbtc,zdyoka,zouhmqnoin\n",
      "acck,ahwe,hylruyqiin,lmspp,oedi,pcxj,qcyqkfhaoi,qyjznh,rduxlkayc,rumdrthcr,rydtojffwe,xbhypsy\n",
      "bbubrjomh,dqbfmpdq,gklvrrgeq,hnsqr,mqrxusac,pehy,sesoexv,uqsumcx,xjda\n",
      "crra,cvnvgpsehz,djgtobdnhl,epckcb,eyqbutjo,fqvv,iebcpbnnk,iyfuzepun,kaqq,mbwob,mfseb,nylpbovfgl,pqakasj,tfuhziw,uqznsbt,uxtu,xwftodlvio,xwmcg,ynaqee,yqrtr\n",
      "cjfij,dijc,dkpn,dobk,edqmze,eflfnwjqru,escfcmx,fbqwlh,grllmbs,iliezukddl,jbrizh,jlcvfsk,kzphbbq,lkkt,ojpzdfcfex,onmx,qoiaks,rjvjmloxmb,rwpp,tfud,tsyzkvyp,vuruvmhky,xlkziz,xriggidw,ymftajzmc\n",
      "aguefd,ajfkqvzrt,amrpq,bxmf,elumjxy,euaxmvuam,fvumoqtme,hwcsf,ksldcr,lpeacfd,lxll,mswx,ookxgvgeds,rbadmpqnuy,rfkllhnl,swuu,sxmkjvs,ujxy,ythixyzoa\n",
      "dbthbqb,lsgst,olrtbgczhp,qymataeivn,xrrnkld\n",
      "fwgu,grcw,knkpbvjy,msgitqtgg,nrsnwlnc,pbyq,pycelwk,pyovbk,qaeh,qvmbpoba,shlhmhi,tabhruco,tyfreiqwk,vobg,vzdubo,xjggihcm,zlhineszw\n",
      "ckpormta,ecze,eybog,gxexxcpltf,qufxhdv,vlrrjaznsk,yobp\n",
      "auzpfn,oeirq,pqslia,qffzwxxwr,wede,woksahjtjl\n",
      "cdqxbhztwt,cfqeudhp,cfzsvajxk,duevey,gccuqlezx,kewop,ktcrgh,oczjscnxwc,osgegwqbn,phfo,qcsrnrxhc,rmry,ryweisn,sqio,swmdcfk,szfe,tyikgudxi,uwvry,wxkjroiven,xkeuot,yswgblau,ytgznhujh,zplgd,zxftgnkbg\n",
      "acccbvo,akzaeilsmp,bocbghvyyy,evgfmsq,fdopgy,gyrqk,hnnrrtyqtj,jalrxkyag,ltlvtv,odbcosbzq,qfiwxhxtf,qrlbf,swyjfxiix,sxtdh,thsbf,tobxbdror,xbla,xsrt,zwyxqzbrx\n",
      "baxwc,cgyptfn,cniuoj,htzvz,mowssxtqmo,nchabh,nszpakd,ofqm,rmfoa,uzrgxlj,vellvnodz,vmbgoan,wsjrcdpu,yludc\n",
      "disyvqoo,faoamv,fngwz,havjmfr,ihzbd,irwxjv,jkzr,msfxnlhgt,nylxwryxja,pujueyrs,qhpm,rpvqkscw,tbhorml,wkvdvubb,woiztdxa,xriyj,ylad,zqrekjsv\n",
      "aljqkd,boznphvvcr,fzceqpxh,gbvohv,ilitnyxymq,jntgo,oyvzxs,rktyaruoz,rlpjvow,rmoms,sqxon,sufpo,ukhttlbqb\n",
      "ioygm,irwnvgzcjm,lexvryuc,miens,spoctd,tvijqv,xifkswfbsp\n",
      "dpzhhlqgw,fwsdpv,hohtspy,hsquxjssy,mpat,oxqerjks,qblhmuyt,qkfoy,rqbmp,yqpulni\n",
      "bfoobonnx,edyx,ewttulcjy,khvtovlaf,lhgyoydkw,ltbyvfl,nzuhbg,nzzhnq,otorb,pzdmorjz,rmokix,tyyyff,wcztrnsapv,zjforfip\n",
      "dybwoyrkqc,ezdtczih,gwih,hrjmxqdj,ikhxtqkgd,joly,nqacwqaw,olsesouoe,qnkxypjktu,rerrwbg,rhwxpon,rlmv,udlwnqluxi,uejzpgfynb,uthrjnlogk,uzoi,zadbe\n",
      "aguqx,asjuyuj,egfo,krjx,mrtcdba,rzmbojq,tbwskdcooa,xomidzzxnw,xzbjdex,yeqlpgqjls,zimoc\n",
      "acocu,awgjohdvo,eakaztos,ewpsdm,fjqqonp,gpgwif,jvwtfvsthb,kekjki,lmyihlysl,onmjnlsii,qgpxtdjc,squngvkua,suqqwr,utmpwhzgo,xniz\n",
      "bbhh,etrbflbva,fpauarss,hnkmfzt,iyle,kwxkdqa,ntsfoys,rlpambcecl,tijdpsefe,tsmlzs,woysy,ykkwz\n",
      "beti,bjajsb,ggmfo,gzczpfr,hdvqvbtsrx,hnnupwwyme,iiyp,ijblaa,jvnjcba,lofmowco,lsaqicyfx,mbsufmnlwh,mwushie,nevs,opfws,pbtdti,qbzw,ryzqef,ucpakcoh,vbaydqor\n",
      "dbdxucn,dnjzwp,eobdqfwn,mkigaclhw,nqurhm,onppprxgel,pssz,qfnxisgkk,rrwtr,smjbk\n",
      "ajjlzwpkh,awpdt,bffgybm,bpwx,drfrms,eaelmhnfkv,ebmllqillu,fwphpdm,gluatxkpcq,gwhfmm,ifcmou,kptegurups,lesdjlo,lhvubh,makg,qhgbbjw,tdtq,xczcudz\n",
      "aubqjl,avqqfsl,cxqjg,ehctgioo,fvnn,gbvpzlq,kjwsocwlo,lwzbbvwdo,lxxf,njyd,obel,pdnrhlx,rndhkiabmo,vhfuxw,yotneb,yruxxohl,zouxk\n",
      "acwfuglroa,cfvevgbmgn,hwezu,jdwodixj,roxmmo\n",
      "anudvdands,bkqrtgxhpi,dgbabmb,dloqxsii,fxpsqddvy,irmmxfg,jngpvovpn,jyikpt,msdozuonf,nevwjhx,nzcqyv,ozjql,pcpqfvr,qgcxxfvjfz,spgqipptke,sqhogr,tqoatx,xekiahcw,xpzqwk,zglwerngm\n",
      "asjyfn,bvmg,dwxnoxyk,fsqinlxoc,ldenspku,lhidcz,pvfrte,qltipqedf,sscbzozyq,xtkimno,yvhfewghp\n",
      "cogbuxinv,jomfgdosb,nnjjx,pnknh,uxdwijf,ydggumoxjp,zteyox,zuly\n",
      "aqzf,aylv,bvwoyor,cxifszbef,dyzktqofuh,elomgpzuk,ewbyjpiode,frxtmlomdu,gkbomland,huuuyp,lmsgad,ngvrbvrb,sive,triw,ujaxki,xmerldgbri\n",
      "dsxxff,gryezl,kqsm,labkzmx,oatv,qhxrpl,qrsiedd,uhhyv,vvoh,wbeupsf,xfsuyg\n",
      "bvhyoq,cayp,frdukqdo,hbmhsrtqhp,hlem,icya,ohbrhn,rbrmoofwkk,uavorct,updu,vufqy,wupl,ybbeazokdu\n",
      "coregf,ewaeo,fdmnw,fimqq,gtlr,hgucfnwht,meumbzhjyg,mgibnylzgi,mihqecr,npdhmvyfec,qmjdlkiei,spdzvetjqb,swgjyh,tiot,wuawosfy,wydas,xlgmxptylj,xlts,yaauy,zenydypc\n",
      "cdivmsphjg,fenu,fiyoc,hqkqsesq,izbpd,ptuppypa,qvzbdko,rrvza,uiopuqmilo,uubi,vrvwswy,wqavkm,wvcrqfepqj,xixtg,xpljua,xsid,zkhvuiemnz\n",
      "aawynmv,cqtluj,nlcwegqrd,tbkgs\n",
      "fbyzwlffk,hntkdf,rmhjahludi,xmihhzuapn,yhqsydqm,zgdd\n",
      "aozmjwrm,ciynfoo,cwsyf,emqcuinl,hsyzn,isbfdnubgu,iskmz,jdmtmmdvnh,kshcqkyg,nlrfculc,pkzqy\n",
      "borvsi,buzb,hrdcyfbcni,infefwbgcy,myrcnn,mysc,pfonjrie,rdjjckxxmz,sglrg,waermgwf,yioah,yliugysn\n",
      "axcjkhgaly,fjhfhvae,iaglbir,inyy,jevpx,jfzqagq,keqqtal,klcxo,kqak,kqix,kqswfe,pwpwlk,qyryklcc,raezfdn,rppjyr,vnbaaks\n",
      "btumcfooiy,bzklnoln,ciahfas,dktfnyuz,dvcdal,epnfmhv,fxmwods,ipudn,ivosgs,jyjybowmst,lhaluz,lkeykzkg,lpajkvi,nwkwv,pvyf,smwpdc,tbquevmxf,trlw,ufjrg,uozblz,wvvbmdy,xcwvaz,xlzzjzx\n",
      "alkzbugw,ayyetufqr,bkpee,bmhmqxb,dgwfcvlde,dyyesabmhm,gecxbb,irjlxck,krpepfukc,mmmd,ovdmcf,oyqljz,ptde,pwqsqhci,rfuh,ruomgtozw,sfntmkwrqw,shbcgf,suiji,ukudpo,vivewlj,zmhdouq\n",
      "bhtdcm,fugcvd,hrvoicb,jsnwakjdo,lbohkiwoc,ldiokgq,lerzsq,njjwcwv,orpia,psdioimb,quxsj,tngwlkuy,ugppyjdlm,uznh,ymgxdjkfx\n",
      "adxsmz,ctdanya,fodofqtb,fojec,fzrjex,hvbzjspivj,jijhotpmod,mfbeq,ubyvhhzn,utjlehzrmh\n",
      "dgnlq,irvmoeimnr,uvnstro,ynvan\n",
      "akvo,cdduvzmlpf,esjzhw,glrhzhirg,iijbrqml,iqwzxsjjw,leyavlzbm,pgvrjb,rojiqojlpv,sjwvsuligh,smdqc,smwkkbbgi,ugvvbhaxp,uippsdmcqt,vhyfdef,vlkrqwl,wmctlfioo,xopzsntk,ybrfoxt,ykktqihvrl\n",
      "ahaj,ccjyimmz,cugtfdfddv,cxrrouqewx,dywkmblhdx,eedac,fgpp,fods,gsgwssl,irqxkmjg,jvcnyd,kurllyea,lblphdp,mtrdp,naxv,ncaj,ntccc,oivgqgfwk,qbip,uhcnasmjdk,vlkajqubfo,vnkc,xdnbxdf,yhls,zeulptz\n",
      "alds,exprerynit,fjaq,mcuimzdj,mgfi,otcpw,ouut,qlitnxa,qmzfy,tpkag,vcelxpdnnn,vmvite,wpcub,xoilkm\n",
      "auqs,bqyg,gvjcjhpw,rkxdf,sideuk,yvjqyqqaag,zshavrvwlw,zzrpsabws\n",
      "aocwfozg,edinz,fcdr,hvqgcln,iquauer,lcyjaoca,mimbjbkv,nubxuwlt,qmkzkddo,rlhqujwkwf,srwmrq,vmwxia,yfrnfwz,ypod\n",
      "cxaalqh,dthnmeecmz,gnloo,rgrkjydhj,rzoqnztm,tpzat,uggi\n",
      "aiswh,cobsqsubgo,fdlvs,jiryx,piagqdxjo,qhcwv,qplbrmgv,rgmhqsxe,skdnz,texwobew,tvvsahgxcn,twvlyvlqft,utuodztrmi,wdraxkmv,wpprbwk,yjdnp\n",
      "czkrnoaq,eakvbhey,grlmta,ivmiefwo,llhbsr,nndqh,ointqw,ougsg,rlesvagsv,sazfxw,sqmvk,thaw,utei,vxmxi,ynvfn,zmvdnfhp,zprgpgup\n"
     ]
    }
   ],
   "source": [
    "# This will test your function \n",
    "test_alpha(sort_alpha)"
   ]
  },
  {
   "cell_type": "markdown",
   "metadata": {},
   "source": [
    "## 12. Write a function to check if a given password is strong (at least 8 characters, at least one lower case, at least one upper case, at least one number and at least one special character). It should output True if strong and False if not."
   ]
  },
  {
   "cell_type": "code",
   "execution_count": 111,
   "metadata": {},
   "outputs": [
    {
     "name": "stdout",
     "output_type": "stream",
     "text": [
      "Error Code [0, 0, 0, 0, 0]\n",
      "False\n",
      "Securite status 3/5\n",
      "False\n",
      "Securite status 4/5\n",
      "False\n",
      "Securite status 4/5\n",
      "False\n",
      "Securite status 4/5\n",
      "False\n",
      "Securite status 5/5\n",
      "True\n"
     ]
    }
   ],
   "source": [
    "def check_pass(password):\n",
    "    checker = 0\n",
    "    # status list of fullfiled requirments for a pasword [len,lowewr,upper,number,special]\n",
    "    check_list = [0,0,0,0,0] \n",
    "    if len(password) < 8:\n",
    "        print(f\"Error Code {check_list}\") \n",
    "        return False\n",
    "    else:   \n",
    "        check_list[0] = 1 \n",
    "    for element in password:\n",
    "        if element.islower():\n",
    "                check_list[1] = 1\n",
    "        elif element.isupper():       \n",
    "                check_list[2] = 1\n",
    "        elif element.isdigit(): \n",
    "                check_list[3] = 1\n",
    "        elif element.isalnum() == False: \n",
    "                check_list[4] = 1     \n",
    "    print(f\"Securite status {sum(check_list)}/5\")\n",
    "    print(f\"Error code {check_list}\")  \n",
    "    \n",
    "    if sum(check_list) == 5:\n",
    "          return True\n",
    "    else:\n",
    "          return False\n",
    "\n",
    "test1 = \"123\" \n",
    "test2 = \"eferfwr234234576868\" \n",
    "test3 = \"fweurfwuefe23432/)/())rhfw\" \n",
    "test4 = \"SFGWSTRBRwiunvwuriv$&%/$\" \n",
    "test5 = \"WERGwrgwq343524vfv\" \n",
    "test6 = \"GutesPasswortmit123234334&Sonderzeichen\"\n",
    "\n",
    "print(check_pass(test1))\n",
    "print(check_pass(test2))\n",
    "print(check_pass(test3))\n",
    "print(check_pass(test4))\n",
    "print(check_pass(test5))\n",
    "print(check_pass(test6))\n"
   ]
  },
  {
   "cell_type": "code",
   "execution_count": null,
   "metadata": {},
   "outputs": [],
   "source": [
    "# This will test your function \n",
    "test_pass(check_pass)"
   ]
  }
 ],
 "metadata": {
  "kernelspec": {
   "display_name": "base",
   "language": "python",
   "name": "python3"
  },
  "language_info": {
   "codemirror_mode": {
    "name": "ipython",
    "version": 3
   },
   "file_extension": ".py",
   "mimetype": "text/x-python",
   "name": "python",
   "nbconvert_exporter": "python",
   "pygments_lexer": "ipython3",
   "version": "3.12.4"
  }
 },
 "nbformat": 4,
 "nbformat_minor": 4
}
